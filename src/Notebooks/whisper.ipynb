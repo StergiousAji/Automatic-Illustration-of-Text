{
 "cells": [
  {
   "cell_type": "code",
   "execution_count": null,
   "metadata": {},
   "outputs": [],
   "source": [
    "import whisper\n",
    "\n",
    "# Load the model\n",
    "model = whisper.load_model(\"small\")\n",
    "\n",
    "# Transcribe the audio file\n",
    "result = model.transcribe(\"..\\\\Automatic-Illustration-of-Text\\\\Django\\ground_truth_videography_project\\\\videography_pipeline\\\\audio\\\\L0MK7qz13bU.mp3\")\n",
    "\n",
    "print(result)"
   ]
  },
  {
   "cell_type": "code",
   "execution_count": 11,
   "metadata": {},
   "outputs": [],
   "source": [
    "lrc = f\"[ar:someone]\\n[ti:title]\\n\"\n",
    "for segment in result[\"segments\"]:\n",
    "    minutes, seconds = divmod(segment[\"end\"], 60)\n",
    "    lrc += f\"[{int(minutes):02d}:{seconds:05.2f}] {segment['text']}\\n\""
   ]
  },
  {
   "cell_type": "code",
   "execution_count": null,
   "metadata": {},
   "outputs": [],
   "source": [
    "print(lrc)"
   ]
  },
  {
   "cell_type": "code",
   "execution_count": null,
   "metadata": {},
   "outputs": [],
   "source": [
    "import pytube\n",
    "from html import unescape\n",
    "import xml.etree.ElementTree as ElementTree\n",
    "\n",
    "def xml_to_lrc_captions(xml_captions: str) -> str:\n",
    "        \"\"\"Convert xml caption tracks to \"SubRip Subtitle (srt)\". MODIFIED\n",
    "\n",
    "        :param str xml_captions:\n",
    "            XML formatted caption tracks.\n",
    "        \"\"\"\n",
    "        segments = []\n",
    "        root = ElementTree.fromstring(xml_captions)\n",
    "        for i, child in enumerate(list(root.findall('body/p'))):\n",
    "            text = ''.join(child.itertext()).strip()\n",
    "            if not text:\n",
    "                continue\n",
    "            caption = unescape(text.replace(\"\\n\", \" \").replace(\"  \", \" \"),)\n",
    "            try:\n",
    "                duration = float(child.attrib[\"d\"])\n",
    "            except KeyError:\n",
    "                duration = 0.0\n",
    "            start = float(child.attrib[\"t\"])\n",
    "            end = (start + duration)/1000\n",
    "\n",
    "            minutes, seconds = divmod(end, 60)\n",
    "            line = f\"[{int(minutes):02d}:{seconds:05.02f}]{caption}\"\n",
    "            segments.append(line)\n",
    "        return \"\\n\".join(segments).strip()\n",
    "\n",
    "yt = pytube.YouTube(\"https://www.youtube.com/watch?v=wWsFgl-P3xg\", use_oauth=True)\n",
    "captions = 'en' if 'en' in yt.captions else ('a.en' if 'a.en' in yt.captions else None)\n",
    "if captions:\n",
    "    print(f\"Grabbing {captions} captions...\")\n",
    "    srt_captions = xml_to_lrc_captions(yt.captions[captions].xml_captions)\n",
    "    with open(f\"{yt.video_id}.srt\", 'w', encoding=\"utf-8\") as captions_file:\n",
    "        captions_file.write(srt_captions)\n",
    "    "
   ]
  }
 ],
 "metadata": {
  "kernelspec": {
   "display_name": "Python 3",
   "language": "python",
   "name": "python3"
  },
  "language_info": {
   "codemirror_mode": {
    "name": "ipython",
    "version": 3
   },
   "file_extension": ".py",
   "mimetype": "text/x-python",
   "name": "python",
   "nbconvert_exporter": "python",
   "pygments_lexer": "ipython3",
   "version": "3.9.2 (tags/v3.9.2:1a79785, Feb 19 2021, 13:44:55) [MSC v.1928 64 bit (AMD64)]"
  },
  "orig_nbformat": 4,
  "vscode": {
   "interpreter": {
    "hash": "67f71cad8bb00401cc70b562b4176ce68c52a737baafa4e0e01596c30c42a5b8"
   }
  }
 },
 "nbformat": 4,
 "nbformat_minor": 2
}
