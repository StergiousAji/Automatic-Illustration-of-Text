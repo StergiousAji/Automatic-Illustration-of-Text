{
 "cells": [
  {
   "cell_type": "code",
   "execution_count": 78,
   "metadata": {},
   "outputs": [],
   "source": [
    "import os, sys, re\n",
    "from IPython import display\n",
    "import random\n",
    "\n",
    "word_to_id = {}\n",
    "with open(\"tiny_labelled_synsets.txt\", \"r\") as labelled_synsets:\n",
    "    for line in labelled_synsets.readlines():\n",
    "        lines_split = line.split(\"\\t\")\n",
    "        word_to_id[lines_split[1].replace(\"\\n\", \"\")] = lines_split[0]\n"
   ]
  },
  {
   "cell_type": "code",
   "execution_count": 98,
   "metadata": {},
   "outputs": [
    {
     "name": "stdout",
     "output_type": "stream",
     "text": [
      "beach wagon, station wagon, wagon, estate car, beach waggon, station waggon, waggon: n02814533\n",
      "freight car: n03393912\n",
      "sports car, sport car: n04285008\n"
     ]
    }
   ],
   "source": [
    "query = input(\"Enter a word to retrieve an image for: \")\n",
    "\n",
    "id = \"\"\n",
    "if query in word_to_id:\n",
    "    id = word_to_id[query]\n",
    "    print(id)\n",
    "else:\n",
    "    for words in word_to_id.keys():\n",
    "        words_comma_split = words.split(\", \")\n",
    "        words_fully_split = words_comma_split + [w for kwords in words_comma_split for w in kwords.split(\" \")]\n",
    "        \n",
    "        if query in words_fully_split:\n",
    "            id = word_to_id[words]\n",
    "            print(f\"{words}: {id}\")"
   ]
  },
  {
   "cell_type": "code",
   "execution_count": 115,
   "metadata": {},
   "outputs": [
    {
     "name": "stdout",
     "output_type": "stream",
     "text": [
      "train\\n04285008\\images\\n04285008_196.jpeg\n"
     ]
    },
    {
     "data": {
      "image/jpeg": "[encoded data removed]",
      "text/plain": [
       "<IPython.core.display.Image object>"
      ]
     },
     "execution_count": 115,
     "metadata": {},
     "output_type": "execute_result"
    }
   ],
   "source": [
    "if id:\n",
    "    image = Image(F\"train\\\\{id}\\\\images\\\\{id}_{random.randint(0, 200)}.jpeg\")\n",
    "\n",
    "print(image.filename)\n",
    "image"
   ]
  },
  {
   "cell_type": "code",
   "execution_count": null,
   "metadata": {},
   "outputs": [],
   "source": []
  }
 ],
 "metadata": {
  "kernelspec": {
   "display_name": "Python 3.9.2 64-bit",
   "language": "python",
   "name": "python3"
  },
  "language_info": {
   "codemirror_mode": {
    "name": "ipython",
    "version": 3
   },
   "file_extension": ".py",
   "mimetype": "text/x-python",
   "name": "python",
   "nbconvert_exporter": "python",
   "pygments_lexer": "ipython3",
   "version": "3.9.2"
  },
  "orig_nbformat": 4,
  "vscode": {
   "interpreter": {
    "hash": "67f71cad8bb00401cc70b562b4176ce68c52a737baafa4e0e01596c30c42a5b8"
   }
  }
 },
 "nbformat": 4,
 "nbformat_minor": 2
}
