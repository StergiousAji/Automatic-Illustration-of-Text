{
 "cells": [
  {
   "cell_type": "code",
   "execution_count": 22,
   "metadata": {},
   "outputs": [],
   "source": [
    "import os, sys, re\n",
    "from IPython.display import Image\n",
    "import random\n",
    "\n",
    "word_to_id = {}\n",
    "with open(\"tiny_imagenet_200\\\\tiny_labelled_synsets.txt\", \"r\") as labelled_synsets:\n",
    "    for line in labelled_synsets.readlines():\n",
    "        lines_split = line.split(\"\\t\")\n",
    "        word_to_id[lines_split[1].replace(\"\\n\", \"\")] = lines_split[0]"
   ]
  },
  {
   "cell_type": "code",
   "execution_count": 24,
   "metadata": {},
   "outputs": [
    {
     "name": "stdout",
     "output_type": "stream",
     "text": [
      "beach wagon, station wagon, wagon, estate car, beach waggon, station waggon, waggon: n02814533\n",
      "freight car: n03393912\n",
      "sports car, sport car: n04285008\n"
     ]
    }
   ],
   "source": [
    "query = input(\"Enter a word to retrieve an image for: \")\n",
    "\n",
    "id = \"\"\n",
    "if query in word_to_id:\n",
    "    id = word_to_id[query]\n",
    "    print(id)\n",
    "else:\n",
    "    for words in word_to_id.keys():\n",
    "        words_comma_split = words.split(\", \")\n",
    "        words_fully_split = words_comma_split + [w for kwords in words_comma_split for w in kwords.split(\" \")]\n",
    "        \n",
    "        if query in words_fully_split:\n",
    "            id = word_to_id[words]\n",
    "            print(f\"{words}: {id}\")"
   ]
  },
  {
   "cell_type": "code",
   "execution_count": 21,
   "metadata": {},
   "outputs": [
    {
     "name": "stdout",
     "output_type": "stream",
     "text": [
      "tiny_imagenet_200\\n02106662\\images\\n02106662_134.jpeg\n"
     ]
    },
    {
     "data": {
      "image/jpeg": "[encoded data removed]",
      "text/plain": [
       "<IPython.core.display.Image object>"
      ]
     },
     "execution_count": 21,
     "metadata": {},
     "output_type": "execute_result"
    }
   ],
   "source": [
    "if id:\n",
    "    image = Image(F\"tiny_imagenet_200\\\\{id}\\\\images\\\\{id}_{random.randint(0, 200)}.jpeg\")\n",
    "\n",
    "print(image.filename)\n",
    "image"
   ]
  },
  {
   "cell_type": "code",
   "execution_count": null,
   "metadata": {},
   "outputs": [],
   "source": [
    "# import os, random\n",
    "\n",
    "# word_map = {}\n",
    "# with open(\"words.txt\", \"r\") as words:\n",
    "#     for line in words.readlines():\n",
    "#         lines_split = line.split(\"\\t\")\n",
    "#         word_map[lines_split[0]] = lines_split[1].replace(\"\\n\", \"\")\n",
    "\n",
    "# non_downloadable_ids = set()\n",
    "# with open(\"image_net\\\\non_downloadable_synsets.txt\", \"r\") as non_downloadable_synsets:\n",
    "#     for line in non_downloadable_synsets.readlines():\n",
    "#         non_downloadable_ids.add(line.replace(\"\\n\", \"\"))\n",
    "    \n",
    "# print(len(non_downloadable_ids))\n",
    "# print(len(word_map.keys()))\n",
    "\n",
    "# downloadable_ids = sorted(set(word_map.keys()).difference(non_downloadable_ids))\n",
    "# print(len(downloadable_ids))\n",
    "# # delete excess files\n",
    "# for id in downloadable_ids:\n",
    "#     folder_path = f\"image_net\\\\{id}\"\n",
    "#     if not os.path.exists(folder_path):\n",
    "#         continue\n",
    "#     folder_size = len(os.listdir(folder_path))\n",
    "\n",
    "#     while folder_size > 5:\n",
    "#         folder_size = len(os.listdir(folder_path))\n",
    "#         rnd_idx = random.randint(0, folder_size-1)\n",
    "#         print(os.listdir(folder_path)[rnd_idx])\n",
    "#         image_file = os.listdir(folder_path)[rnd_idx]\n",
    "        \n",
    "#         if not os.path.exists(f\"image_net\\\\trash\\\\{id}\"):\n",
    "#             os.mkdir(f\"image_net\\\\trash\\\\{id}\")\n",
    "\n",
    "#         os.replace(f\"{folder_path}\\\\{image_file}\", f\"image_net\\\\trash\\\\{id}\\\\{image_file}\")"
   ]
  }
 ],
 "metadata": {
  "kernelspec": {
   "display_name": "Python 3.9.2 64-bit",
   "language": "python",
   "name": "python3"
  },
  "language_info": {
   "codemirror_mode": {
    "name": "ipython",
    "version": 3
   },
   "file_extension": ".py",
   "mimetype": "text/x-python",
   "name": "python",
   "nbconvert_exporter": "python",
   "pygments_lexer": "ipython3",
   "version": "3.9.2"
  },
  "orig_nbformat": 4,
  "vscode": {
   "interpreter": {
    "hash": "67f71cad8bb00401cc70b562b4176ce68c52a737baafa4e0e01596c30c42a5b8"
   }
  }
 },
 "nbformat": 4,
 "nbformat_minor": 2
}
